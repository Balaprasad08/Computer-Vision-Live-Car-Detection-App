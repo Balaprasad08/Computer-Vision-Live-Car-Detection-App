{
 "cells": [
  {
   "cell_type": "code",
   "execution_count": 1,
   "metadata": {},
   "outputs": [],
   "source": [
    "import numpy as np\n",
    "import pandas as pd\n",
    "import cv2\n",
    "import os\n",
    "import warnings\n",
    "warnings.filterwarnings('ignore')\n",
    "import time"
   ]
  },
  {
   "cell_type": "code",
   "execution_count": 2,
   "metadata": {},
   "outputs": [],
   "source": [
    "os.chdir('E:\\prasad\\practice\\Computer Vision\\Live Car Detection App')"
   ]
  },
  {
   "cell_type": "code",
   "execution_count": 3,
   "metadata": {},
   "outputs": [],
   "source": [
    "# Load the Cascade Classifier\n",
    "car_cascade = cv2.CascadeClassifier(\"haarcascade_car.xml\")"
   ]
  },
  {
   "cell_type": "code",
   "execution_count": 4,
   "metadata": {},
   "outputs": [],
   "source": [
    "cap = cv2.VideoCapture('Traffic - 20581.mp4')"
   ]
  },
  {
   "cell_type": "code",
   "execution_count": 5,
   "metadata": {},
   "outputs": [],
   "source": [
    "while True:\n",
    "     \n",
    " #read image from webcam\n",
    "    respose, color_img = cap.read()\n",
    "     \n",
    "    if respose == False:\n",
    "        break\n",
    "     \n",
    "    # Convert to grayscale\n",
    "    gray_img = cv2.cvtColor(color_img, cv2.COLOR_BGR2GRAY)\n",
    "     \n",
    "    # Detect the Cars\n",
    "    cars = car_cascade.detectMultiScale(gray_img, 1.1, 1)\n",
    "     \n",
    "    #display rectrangle\n",
    "    i=0\n",
    "    for (x, y, w, h) in cars:\n",
    "        if i%2==0:\n",
    "            cv2.rectangle(color_img, (x, y), (x+w, y+h), (0, 0, 255), 2)\n",
    "            i +=1\n",
    "        else:\n",
    "            cv2.rectangle(color_img, (x, y), (x+w, y+h), (0, 255, 0), 2)\n",
    "            i +=1      \n",
    "     \n",
    "        # display image\n",
    "        cv2.imshow('img', color_img)\n",
    "             \n",
    "    if cv2.waitKey(1) & 0xFF == ord('q'):\n",
    "        break\n",
    " \n",
    "#Release the VideoCapture object\n",
    "cap.release()\n",
    "cv2.destroyAllWindows()"
   ]
  },
  {
   "cell_type": "code",
   "execution_count": null,
   "metadata": {},
   "outputs": [],
   "source": []
  }
 ],
 "metadata": {
  "kernelspec": {
   "display_name": "Python 3",
   "language": "python",
   "name": "python3"
  },
  "language_info": {
   "codemirror_mode": {
    "name": "ipython",
    "version": 3
   },
   "file_extension": ".py",
   "mimetype": "text/x-python",
   "name": "python",
   "nbconvert_exporter": "python",
   "pygments_lexer": "ipython3",
   "version": "3.8.5"
  }
 },
 "nbformat": 4,
 "nbformat_minor": 4
}
